{
 "cells": [
  {
   "cell_type": "code",
   "execution_count": 1,
   "id": "6b4b1dab",
   "metadata": {},
   "outputs": [],
   "source": [
    "import pandas as pd\n",
    "import numpy as np\n",
    "import re\n",
    "from faker import Faker\n",
    "from sklearn.metrics import confusion_matrix\n",
    "import seaborn as sns\n",
    "import matplotlib.pyplot as plt\n",
    "from sklearn.metrics import classification_report\n",
    "from sklearn.metrics import mutual_info_score, normalized_mutual_info_score, adjusted_mutual_info_score\n",
    "import requests\n",
    "from bs4 import BeautifulSoup\n",
    "import string\n",
    "import time\n",
    "from selenium.webdriver import Chrome\n",
    "from selenium.webdriver.common.by import By\n",
    "from selenium.webdriver.common.keys import Keys\n",
    "from selenium.webdriver.chrome.options import Options\n",
    "from selenium.webdriver.support.ui import WebDriverWait\n",
    "from selenium.webdriver.support import expected_conditions as EC\n",
    "from selenium.common.exceptions import TimeoutException\n",
    "import warnings\n",
    "warnings.filterwarnings(\"ignore\")"
   ]
  },
  {
   "cell_type": "markdown",
   "id": "bf84d379",
   "metadata": {},
   "source": [
    "# A2. Crawling and classifying YouTube comments from Greek pages\n"
   ]
  },
  {
   "cell_type": "markdown",
   "id": "c023d78f",
   "metadata": {},
   "source": [
    "## I. Language detection"
   ]
  },
  {
   "cell_type": "markdown",
   "id": "e2c956e3",
   "metadata": {},
   "source": [
    "### 1. Build a language detector (Greek/Greeklish/English/Other) using RegExps."
   ]
  },
  {
   "cell_type": "code",
   "execution_count": 2,
   "id": "fdf5bfed",
   "metadata": {},
   "outputs": [],
   "source": [
    "def detect_language(text):\n",
    "    greek_pattern = re.compile(r'[\\u0370-\\u03FF\\s]+')\n",
    "    english_pattern = re.compile(r'[a-zA-Z\\s]+')\n",
    "    greeklish_pattern = re.compile(r'[a-zA-Z\\u0370-\\u03FF\\s]+')\n",
    "    text_without_punctuation = re.sub(r'[.,!]', '', text)\n",
    "    if greek_pattern.fullmatch(text_without_punctuation):\n",
    "        return 'el'\n",
    "    elif english_pattern.fullmatch(text_without_punctuation):\n",
    "        return 'en'\n",
    "    elif greeklish_pattern.fullmatch(text_without_punctuation):\n",
    "        return 'greeklish'\n",
    "    elif re.search(r'[a-zA-Z]', text_without_punctuation):\n",
    "        return 'other'  # Check for Latin characters not covered by English\n",
    "    else:\n",
    "        return 'other'"
   ]
  },
  {
   "cell_type": "markdown",
   "id": "4427c564",
   "metadata": {},
   "source": [
    "### 2. Create a ground truth evaluation dataset and assess your classifier. (Hint: you are free to manually extract data from online sources.) This dataset will be submitted as a CSV named as gold.csv."
   ]
  },
  {
   "cell_type": "code",
   "execution_count": 3,
   "id": "23f53331",
   "metadata": {},
   "outputs": [
    {
     "data": {
      "text/html": [
       "<div>\n",
       "<style scoped>\n",
       "    .dataframe tbody tr th:only-of-type {\n",
       "        vertical-align: middle;\n",
       "    }\n",
       "\n",
       "    .dataframe tbody tr th {\n",
       "        vertical-align: top;\n",
       "    }\n",
       "\n",
       "    .dataframe thead th {\n",
       "        text-align: right;\n",
       "    }\n",
       "</style>\n",
       "<table border=\"1\" class=\"dataframe\">\n",
       "  <thead>\n",
       "    <tr style=\"text-align: right;\">\n",
       "      <th></th>\n",
       "      <th>labels</th>\n",
       "      <th>text</th>\n",
       "    </tr>\n",
       "  </thead>\n",
       "  <tbody>\n",
       "    <tr>\n",
       "      <th>0</th>\n",
       "      <td>en</td>\n",
       "      <td>Didnt really seem to work much.</td>\n",
       "    </tr>\n",
       "    <tr>\n",
       "      <th>1</th>\n",
       "      <td>en</td>\n",
       "      <td>Highly recommend for those who don't like bein...</td>\n",
       "    </tr>\n",
       "    <tr>\n",
       "      <th>2</th>\n",
       "      <td>en</td>\n",
       "      <td>Fascinating premise and characters. The only c...</td>\n",
       "    </tr>\n",
       "    <tr>\n",
       "      <th>3</th>\n",
       "      <td>en</td>\n",
       "      <td>This was perfect for my tree and decor, good p...</td>\n",
       "    </tr>\n",
       "    <tr>\n",
       "      <th>4</th>\n",
       "      <td>en</td>\n",
       "      <td>This product does help with dry skin. However,...</td>\n",
       "    </tr>\n",
       "    <tr>\n",
       "      <th>...</th>\n",
       "      <td>...</td>\n",
       "      <td>...</td>\n",
       "    </tr>\n",
       "    <tr>\n",
       "      <th>13995</th>\n",
       "      <td>other</td>\n",
       "      <td>Chi phí cho mỗi hoạt động bưu điện ( xử lý thư...</td>\n",
       "    </tr>\n",
       "    <tr>\n",
       "      <th>13996</th>\n",
       "      <td>other</td>\n",
       "      <td>Pássaro preto sentado numa laje de betão.</td>\n",
       "    </tr>\n",
       "    <tr>\n",
       "      <th>13997</th>\n",
       "      <td>other</td>\n",
       "      <td>ホバリングが凄く敏感で安定しています。 風速14メートルくらいでも全然平気でした。 地上から...</td>\n",
       "    </tr>\n",
       "    <tr>\n",
       "      <th>13998</th>\n",
       "      <td>other</td>\n",
       "      <td>เงา ของ สัตว์ร้าย ถูกจับ   adrin   และ เขา กระ...</td>\n",
       "    </tr>\n",
       "    <tr>\n",
       "      <th>13999</th>\n",
       "      <td>other</td>\n",
       "      <td>Это была сьюзан .</td>\n",
       "    </tr>\n",
       "  </tbody>\n",
       "</table>\n",
       "<p>14000 rows × 2 columns</p>\n",
       "</div>"
      ],
      "text/plain": [
       "      labels                                               text\n",
       "0         en                    Didnt really seem to work much.\n",
       "1         en  Highly recommend for those who don't like bein...\n",
       "2         en  Fascinating premise and characters. The only c...\n",
       "3         en  This was perfect for my tree and decor, good p...\n",
       "4         en  This product does help with dry skin. However,...\n",
       "...      ...                                                ...\n",
       "13995  other  Chi phí cho mỗi hoạt động bưu điện ( xử lý thư...\n",
       "13996  other          Pássaro preto sentado numa laje de betão.\n",
       "13997  other  ホバリングが凄く敏感で安定しています。 風速14メートルくらいでも全然平気でした。 地上から...\n",
       "13998  other  เงา ของ สัตว์ร้าย ถูกจับ   adrin   และ เขา กระ...\n",
       "13999  other                                  Это была сьюзан .\n",
       "\n",
       "[14000 rows x 2 columns]"
      ]
     },
     "execution_count": 3,
     "metadata": {},
     "output_type": "execute_result"
    }
   ],
   "source": [
    "'''\n",
    "We downloaded a language detection dataset from \n",
    "https://huggingface.co/datasets/papluca/language-identification/tree/main, renamed all labels to either greek,\n",
    "english or other. We randomly sampled 3500 from the 'other' label to have a balanced df. \n",
    "Finally we copied the greek text and added fake english to create synthetic greeklish text.\n",
    "\n",
    "df = pd.read_csv(\"lang_df.csv\")\n",
    "def classify_language(language):\n",
    "    if language in ['en', 'el']:\n",
    "        return language\n",
    "    else:\n",
    "        return 'other'\n",
    "\n",
    "# Apply the function to the 'language' column\n",
    "df['labels'] = df['labels'].apply(classify_language)\n",
    "english_df = df[df['labels'] == 'en']\n",
    "greek_df = df[df['labels'] == 'el']\n",
    "other_df = df[df['labels'] == 'other']\n",
    "faker = Faker()\n",
    "greeklish_df = pd.DataFrame(columns=['labels', 'text'])\n",
    "greeklish_df['text'] = greek_df['text'] + \" \" + faker.text()\n",
    "greeklish_df['labels'] = 'greeklish'\n",
    "random_other_df = other_df.sample(n=3500, random_state=42)\n",
    "result_df = pd.concat([english_df, greek_df, greeklish_df, random_other_df], ignore_index=True)\n",
    "result_df.to_csv('gold.csv', index=False)\n",
    "'''\n",
    "gold_df = pd.read_csv('gold.csv')\n",
    "gold_df"
   ]
  },
  {
   "cell_type": "code",
   "execution_count": 4,
   "id": "47b5fac2",
   "metadata": {},
   "outputs": [
    {
     "data": {
      "image/png": "[encoded data removed]",
      "text/plain": [
       "<Figure size 800x800 with 1 Axes>"
      ]
     },
     "metadata": {},
     "output_type": "display_data"
    }
   ],
   "source": [
    "category_counts = gold_df['labels'].value_counts()\n",
    "\n",
    "# Create a pie chart\n",
    "plt.figure(figsize=(8, 8))\n",
    "category_counts.plot.pie(autopct='%1.1f%%')\n",
    "plt.title('Pie Chart of True language labels')\n",
    "plt.ylabel('')\n",
    "plt.show()"
   ]
  },
  {
   "cell_type": "code",
   "execution_count": 5,
   "id": "28343099",
   "metadata": {},
   "outputs": [
    {
     "data": {
      "text/html": [
       "<div>\n",
       "<style scoped>\n",
       "    .dataframe tbody tr th:only-of-type {\n",
       "        vertical-align: middle;\n",
       "    }\n",
       "\n",
       "    .dataframe tbody tr th {\n",
       "        vertical-align: top;\n",
       "    }\n",
       "\n",
       "    .dataframe thead th {\n",
       "        text-align: right;\n",
       "    }\n",
       "</style>\n",
       "<table border=\"1\" class=\"dataframe\">\n",
       "  <thead>\n",
       "    <tr style=\"text-align: right;\">\n",
       "      <th></th>\n",
       "      <th>labels</th>\n",
       "      <th>text</th>\n",
       "      <th>lang_classification</th>\n",
       "    </tr>\n",
       "  </thead>\n",
       "  <tbody>\n",
       "    <tr>\n",
       "      <th>0</th>\n",
       "      <td>en</td>\n",
       "      <td>Didnt really seem to work much.</td>\n",
       "      <td>en</td>\n",
       "    </tr>\n",
       "    <tr>\n",
       "      <th>1</th>\n",
       "      <td>en</td>\n",
       "      <td>Highly recommend for those who don't like bein...</td>\n",
       "      <td>other</td>\n",
       "    </tr>\n",
       "    <tr>\n",
       "      <th>2</th>\n",
       "      <td>en</td>\n",
       "      <td>Fascinating premise and characters. The only c...</td>\n",
       "      <td>en</td>\n",
       "    </tr>\n",
       "    <tr>\n",
       "      <th>3</th>\n",
       "      <td>en</td>\n",
       "      <td>This was perfect for my tree and decor, good p...</td>\n",
       "      <td>en</td>\n",
       "    </tr>\n",
       "    <tr>\n",
       "      <th>4</th>\n",
       "      <td>en</td>\n",
       "      <td>This product does help with dry skin. However,...</td>\n",
       "      <td>other</td>\n",
       "    </tr>\n",
       "    <tr>\n",
       "      <th>...</th>\n",
       "      <td>...</td>\n",
       "      <td>...</td>\n",
       "      <td>...</td>\n",
       "    </tr>\n",
       "    <tr>\n",
       "      <th>13995</th>\n",
       "      <td>other</td>\n",
       "      <td>Chi phí cho mỗi hoạt động bưu điện ( xử lý thư...</td>\n",
       "      <td>other</td>\n",
       "    </tr>\n",
       "    <tr>\n",
       "      <th>13996</th>\n",
       "      <td>other</td>\n",
       "      <td>Pássaro preto sentado numa laje de betão.</td>\n",
       "      <td>other</td>\n",
       "    </tr>\n",
       "    <tr>\n",
       "      <th>13997</th>\n",
       "      <td>other</td>\n",
       "      <td>ホバリングが凄く敏感で安定しています。 風速14メートルくらいでも全然平気でした。 地上から...</td>\n",
       "      <td>other</td>\n",
       "    </tr>\n",
       "    <tr>\n",
       "      <th>13998</th>\n",
       "      <td>other</td>\n",
       "      <td>เงา ของ สัตว์ร้าย ถูกจับ   adrin   และ เขา กระ...</td>\n",
       "      <td>other</td>\n",
       "    </tr>\n",
       "    <tr>\n",
       "      <th>13999</th>\n",
       "      <td>other</td>\n",
       "      <td>Это была сьюзан .</td>\n",
       "      <td>other</td>\n",
       "    </tr>\n",
       "  </tbody>\n",
       "</table>\n",
       "<p>14000 rows × 3 columns</p>\n",
       "</div>"
      ],
      "text/plain": [
       "      labels                                               text  \\\n",
       "0         en                    Didnt really seem to work much.   \n",
       "1         en  Highly recommend for those who don't like bein...   \n",
       "2         en  Fascinating premise and characters. The only c...   \n",
       "3         en  This was perfect for my tree and decor, good p...   \n",
       "4         en  This product does help with dry skin. However,...   \n",
       "...      ...                                                ...   \n",
       "13995  other  Chi phí cho mỗi hoạt động bưu điện ( xử lý thư...   \n",
       "13996  other          Pássaro preto sentado numa laje de betão.   \n",
       "13997  other  ホバリングが凄く敏感で安定しています。 風速14メートルくらいでも全然平気でした。 地上から...   \n",
       "13998  other  เงา ของ สัตว์ร้าย ถูกจับ   adrin   และ เขา กระ...   \n",
       "13999  other                                  Это была сьюзан .   \n",
       "\n",
       "      lang_classification  \n",
       "0                      en  \n",
       "1                   other  \n",
       "2                      en  \n",
       "3                      en  \n",
       "4                   other  \n",
       "...                   ...  \n",
       "13995               other  \n",
       "13996               other  \n",
       "13997               other  \n",
       "13998               other  \n",
       "13999               other  \n",
       "\n",
       "[14000 rows x 3 columns]"
      ]
     },
     "execution_count": 5,
     "metadata": {},
     "output_type": "execute_result"
    }
   ],
   "source": [
    "gold_df['lang_classification'] = gold_df.apply(lambda row: detect_language(row['text']), axis=1)\n",
    "gold_df"
   ]
  },
  {
   "cell_type": "code",
   "execution_count": 6,
   "id": "bdaa9510",
   "metadata": {},
   "outputs": [],
   "source": [
    "gold_df['agreement'] = (gold_df['labels'] == gold_df['lang_classification']).astype(int)"
   ]
  },
  {
   "cell_type": "code",
   "execution_count": 7,
   "id": "08a04366",
   "metadata": {},
   "outputs": [
    {
     "data": {
      "text/plain": [
       "1    9158\n",
       "0    4842\n",
       "Name: agreement, dtype: int64"
      ]
     },
     "execution_count": 7,
     "metadata": {},
     "output_type": "execute_result"
    }
   ],
   "source": [
    "gold_df['agreement'].value_counts()"
   ]
  },
  {
   "cell_type": "code",
   "execution_count": 8,
   "id": "df1103af",
   "metadata": {},
   "outputs": [
    {
     "data": {
      "image/png": "[encoded data removed]",
      "text/plain": [
       "<Figure size 640x480 with 1 Axes>"
      ]
     },
     "metadata": {},
     "output_type": "display_data"
    }
   ],
   "source": [
    "class_names = ['el','en','greeklish','other']\n",
    "\n",
    "# Assuming your DataFrame is named 'df' and the columns are 'actual_values' and 'predicted_values'\n",
    "\n",
    "# Create a confusion matrix\n",
    "conf_matrix = confusion_matrix(gold_df['labels'], gold_df['lang_classification'])\n",
    "\n",
    "# Create a heatmap for better visualization\n",
    "sns.heatmap(conf_matrix, annot=True, fmt='d', cmap='Blues', cbar=False, xticklabels=class_names, yticklabels=class_names)\n",
    "plt.xlabel('Predicted')\n",
    "plt.ylabel('Actual')\n",
    "plt.title('Confusion Matrix')\n",
    "plt.show()"
   ]
  },
  {
   "cell_type": "code",
   "execution_count": 9,
   "id": "d3d1e448",
   "metadata": {},
   "outputs": [
    {
     "name": "stdout",
     "output_type": "stream",
     "text": [
      "Classification Report:\n",
      "              precision    recall  f1-score   support\n",
      "\n",
      "          el       1.00      0.59      0.74      3500\n",
      "          en       0.77      0.47      0.58      3500\n",
      "   greeklish       0.87      0.70      0.77      3500\n",
      "       other       0.43      0.86      0.57      3500\n",
      "\n",
      "    accuracy                           0.65     14000\n",
      "   macro avg       0.77      0.65      0.67     14000\n",
      "weighted avg       0.77      0.65      0.67     14000\n",
      "\n"
     ]
    }
   ],
   "source": [
    "classification_report_result = classification_report(gold_df['labels'], gold_df['lang_classification'])\n",
    "print(\"Classification Report:\")\n",
    "print(classification_report_result)"
   ]
  },
  {
   "cell_type": "code",
   "execution_count": 10,
   "id": "b9634a8a",
   "metadata": {},
   "outputs": [
    {
     "name": "stdout",
     "output_type": "stream",
     "text": [
      "Mutual Info Score: 0.5832214727321215\n",
      "Normalized Mutual Info Score: 0.44438119252630975\n",
      "Adjusted Mutual Info Score: 0.4442450303320342\n"
     ]
    }
   ],
   "source": [
    "print(f\"Mutual Info Score: {mutual_info_score(gold_df['labels'].values, gold_df['lang_classification'].values)}\")\n",
    "print(f\"Normalized Mutual Info Score: {normalized_mutual_info_score(gold_df['labels'].values, gold_df['lang_classification'].values)}\")\n",
    "print(f\"Adjusted Mutual Info Score: {adjusted_mutual_info_score(gold_df['labels'].values, gold_df['lang_classification'].values)}\")"
   ]
  },
  {
   "cell_type": "markdown",
   "id": "be8942b3",
   "metadata": {},
   "source": [
    "## II. Crawl YouTube for videos with Greek posts"
   ]
  },
  {
   "cell_type": "markdown",
   "id": "de03fdc8",
   "metadata": {},
   "source": [
    "### 1. Apply your language detector to the page’s title."
   ]
  },
  {
   "cell_type": "code",
   "execution_count": 11,
   "id": "ea6e3e15",
   "metadata": {},
   "outputs": [],
   "source": [
    "def remove_punctuation(input_text):\n",
    "    translator = str.maketrans('', '', string.punctuation + string.digits)\n",
    "    return input_text.translate(translator)"
   ]
  },
  {
   "cell_type": "code",
   "execution_count": 12,
   "id": "0ca5822c",
   "metadata": {},
   "outputs": [],
   "source": [
    "def find_title_lang(soup):\n",
    "    title_tag = soup.find('title')\n",
    "    if title_tag:\n",
    "        return detect_language(remove_punctuation(title_tag.text)) \n",
    "    else:\n",
    "        print(\"No <title> tag found.\")"
   ]
  },
  {
   "cell_type": "markdown",
   "id": "d8a5ccd4",
   "metadata": {},
   "source": [
    "### 2. Parse all the comments of the page but only if the title is in Greek/Greeklish."
   ]
  },
  {
   "cell_type": "markdown",
   "id": "299e6f14",
   "metadata": {},
   "source": [
    "### 3. Use a strategy to jump to other pages that *will likely* have Greek/Greeklish titles."
   ]
  },
  {
   "cell_type": "code",
   "execution_count": 13,
   "id": "9ac18d47",
   "metadata": {},
   "outputs": [],
   "source": [
    "def parse_comments(video_url,titles):\n",
    "    comment_list = []\n",
    "    comment_dates = []\n",
    "    comments = []\n",
    "    with Chrome() as driver: # path to geckodriver for older versions \n",
    "        try:\n",
    "            driver.get(video_url)\n",
    "            wait = WebDriverWait(driver,15)\n",
    "\n",
    "            # Scroll down to load comments (adjust the number of scrolls as needed)\n",
    "            for _ in range(5):  # Scroll down 5 times; adjust as needed\n",
    "                driver.find_element(By.TAG_NAME, 'body').send_keys(Keys.END)\n",
    "                time.sleep(2)  # Wait for the page to load\n",
    "\n",
    "            # Find and extract the comments\n",
    "            page_title = driver.title\n",
    "            comments = wait.until(EC.presence_of_all_elements_located((By.CSS_SELECTOR, \"#comment\")))\n",
    "        except TimeoutException:\n",
    "            print(f\"No comments found for title: {page_title}\")\n",
    "            \n",
    "        container_class = \"your_container_class\"\n",
    "        container_element = driver.find_element(By.CLASS_NAME, \"style-scope ytd-watch-next-secondary-results-renderer\")  \n",
    "        links = [a.get_attribute('href') for a in container_element.find_elements(By.TAG_NAME, 'a') if a.get_attribute('href')]\n",
    "        for comment in comments:\n",
    "            comment_text = comment.find_element(By.CSS_SELECTOR, \"#content-text\").text\n",
    "            comment_date = comment.find_element(By.CSS_SELECTOR, \"#header-author > yt-formatted-string > a\").text\n",
    "            comment_list.append(comment_text)\n",
    "            comment_dates.append(comment_date)\n",
    "        for link in links:\n",
    "            response = requests.get(link)\n",
    "            if response.status_code == 200:\n",
    "                html_content = response.text\n",
    "                soup1 = BeautifulSoup(html_content, 'html.parser')\n",
    "                title_tag = soup1.find('title')\n",
    "                if title_tag.text in titles:\n",
    "                    continue\n",
    "                else:\n",
    "                    if (find_title_lang(soup1) == \"greeklish\" or find_title_lang(soup1) == \"el\"):\n",
    "                        new_url = link\n",
    "                        page_title = title_tag.text\n",
    "                        return (comment_list,comment_dates, new_url,page_title)\n",
    "                    else:\n",
    "                        page_title = title_tag.text\n",
    "                        new_url = link\n",
    "    driver.quit()\n",
    "    return (comment_list,comment_dates, new_url,page_title)"
   ]
  },
  {
   "cell_type": "code",
   "execution_count": null,
   "id": "a2959287",
   "metadata": {},
   "outputs": [],
   "source": [
    "df = pd.DataFrame(columns=[\"title\", \"comment\",\"date\"])\n",
    "url = \"https://www.youtube.com/watch?v=XqmT7TGsa0o\"\n",
    "titles = []\n",
    "for i in range(25):\n",
    "    (comments,dates,url,title) = parse_comments(url,titles)\n",
    "    print(title)\n",
    "    titles.append(title)\n",
    "    for i in range(len(comments)):\n",
    "        df = df.append({\"title\": title, \"comment\": comments[i],\"date\":dates[i]}, ignore_index=True)\n",
    "df"
   ]
  },
  {
   "cell_type": "code",
   "execution_count": 15,
   "id": "6dacd85a",
   "metadata": {},
   "outputs": [
    {
     "data": {
      "text/html": [
       "<div>\n",
       "<style scoped>\n",
       "    .dataframe tbody tr th:only-of-type {\n",
       "        vertical-align: middle;\n",
       "    }\n",
       "\n",
       "    .dataframe tbody tr th {\n",
       "        vertical-align: top;\n",
       "    }\n",
       "\n",
       "    .dataframe thead th {\n",
       "        text-align: right;\n",
       "    }\n",
       "</style>\n",
       "<table border=\"1\" class=\"dataframe\">\n",
       "  <thead>\n",
       "    <tr style=\"text-align: right;\">\n",
       "      <th></th>\n",
       "      <th>title</th>\n",
       "      <th>comment</th>\n",
       "      <th>date</th>\n",
       "    </tr>\n",
       "  </thead>\n",
       "  <tbody>\n",
       "    <tr>\n",
       "      <th>0</th>\n",
       "      <td>ΕΚΑΝΕ ΤΟ ΚΑΛΥΤΕΡΟ NIDALEE GAME! | Dom1nant - Y...</td>\n",
       "      <td>Domizerahansera locoananera</td>\n",
       "      <td>4 months ago</td>\n",
       "    </tr>\n",
       "    <tr>\n",
       "      <th>1</th>\n",
       "      <td>Όταν έχεις συμπαίκτη είναι πιο EASY! - YouTube</td>\n",
       "      <td>μλκ τι εκανες εκει με Nida ρε παιχτη ?. Αυτα τ...</td>\n",
       "      <td>6 months ago (edited)</td>\n",
       "    </tr>\n",
       "    <tr>\n",
       "      <th>2</th>\n",
       "      <td>Όταν έχεις συμπαίκτη είναι πιο EASY! - YouTube</td>\n",
       "      <td>Ο λιλ ποπ ειναι αυτος ?</td>\n",
       "      <td>6 months ago</td>\n",
       "    </tr>\n",
       "    <tr>\n",
       "      <th>3</th>\n",
       "      <td>Adapting στο game = PERMA ΚΑΛΟΣ - YouTube</td>\n",
       "      <td>wlg epilipsy confirmed?</td>\n",
       "      <td>1 year ago</td>\n",
       "    </tr>\n",
       "    <tr>\n",
       "      <th>4</th>\n",
       "      <td>Adapting στο game = PERMA ΚΑΛΟΣ - YouTube</td>\n",
       "      <td>RRRRRRRRRRRRRRRRRRRRRR</td>\n",
       "      <td>1 year ago</td>\n",
       "    </tr>\n",
       "    <tr>\n",
       "      <th>...</th>\n",
       "      <td>...</td>\n",
       "      <td>...</td>\n",
       "      <td>...</td>\n",
       "    </tr>\n",
       "    <tr>\n",
       "      <th>1025</th>\n",
       "      <td>Δημ. Δαββέτας : Ο Ναπολέων, η ταινία Σκοτ,  η ...</td>\n",
       "      <td>Εξαιρετικη</td>\n",
       "      <td>11 hours ago</td>\n",
       "    </tr>\n",
       "    <tr>\n",
       "      <th>1026</th>\n",
       "      <td>Δημ. Δαββέτας : Ο Ναπολέων, η ταινία Σκοτ,  η ...</td>\n",
       "      <td>\"Δεν υπάρχουν πολλά τέτοια προστατευμενα σημει...</td>\n",
       "      <td>6 hours ago</td>\n",
       "    </tr>\n",
       "    <tr>\n",
       "      <th>1027</th>\n",
       "      <td>Δημ. Δαββέτας : Ο Ναπολέων, η ταινία Σκοτ,  η ...</td>\n",
       "      <td>Κύριε Σαχίνη θα ήταν ωραία  καλεσμένη στις αντ...</td>\n",
       "      <td>8 hours ago</td>\n",
       "    </tr>\n",
       "    <tr>\n",
       "      <th>1028</th>\n",
       "      <td>Δημ. Δαββέτας : Ο Ναπολέων, η ταινία Σκοτ,  η ...</td>\n",
       "      <td>αυτό το \"Δεν επηρεάζει ο Ηλιος το Κλίμα\" εεεεχ...</td>\n",
       "      <td>9 hours ago</td>\n",
       "    </tr>\n",
       "    <tr>\n",
       "      <th>1029</th>\n",
       "      <td>Δημ. Δαββέτας : Ο Ναπολέων, η ταινία Σκοτ,  η ...</td>\n",
       "      <td>8:04,  22:50</td>\n",
       "      <td>10 hours ago (edited)</td>\n",
       "    </tr>\n",
       "  </tbody>\n",
       "</table>\n",
       "<p>1030 rows × 3 columns</p>\n",
       "</div>"
      ],
      "text/plain": [
       "                                                  title  \\\n",
       "0     ΕΚΑΝΕ ΤΟ ΚΑΛΥΤΕΡΟ NIDALEE GAME! | Dom1nant - Y...   \n",
       "1        Όταν έχεις συμπαίκτη είναι πιο EASY! - YouTube   \n",
       "2        Όταν έχεις συμπαίκτη είναι πιο EASY! - YouTube   \n",
       "3             Adapting στο game = PERMA ΚΑΛΟΣ - YouTube   \n",
       "4             Adapting στο game = PERMA ΚΑΛΟΣ - YouTube   \n",
       "...                                                 ...   \n",
       "1025  Δημ. Δαββέτας : Ο Ναπολέων, η ταινία Σκοτ,  η ...   \n",
       "1026  Δημ. Δαββέτας : Ο Ναπολέων, η ταινία Σκοτ,  η ...   \n",
       "1027  Δημ. Δαββέτας : Ο Ναπολέων, η ταινία Σκοτ,  η ...   \n",
       "1028  Δημ. Δαββέτας : Ο Ναπολέων, η ταινία Σκοτ,  η ...   \n",
       "1029  Δημ. Δαββέτας : Ο Ναπολέων, η ταινία Σκοτ,  η ...   \n",
       "\n",
       "                                                comment                   date  \n",
       "0                           Domizerahansera locoananera           4 months ago  \n",
       "1     μλκ τι εκανες εκει με Nida ρε παιχτη ?. Αυτα τ...  6 months ago (edited)  \n",
       "2                               Ο λιλ ποπ ειναι αυτος ?           6 months ago  \n",
       "3                               wlg epilipsy confirmed?             1 year ago  \n",
       "4                                RRRRRRRRRRRRRRRRRRRRRR             1 year ago  \n",
       "...                                                 ...                    ...  \n",
       "1025                                         Εξαιρετικη           11 hours ago  \n",
       "1026  \"Δεν υπάρχουν πολλά τέτοια προστατευμενα σημει...            6 hours ago  \n",
       "1027  Κύριε Σαχίνη θα ήταν ωραία  καλεσμένη στις αντ...            8 hours ago  \n",
       "1028  αυτό το \"Δεν επηρεάζει ο Ηλιος το Κλίμα\" εεεεχ...            9 hours ago  \n",
       "1029                                       8:04,  22:50  10 hours ago (edited)  \n",
       "\n",
       "[1030 rows x 3 columns]"
      ]
     },
     "execution_count": 15,
     "metadata": {},
     "output_type": "execute_result"
    }
   ],
   "source": [
    "df"
   ]
  },
  {
   "cell_type": "markdown",
   "id": "63a04838",
   "metadata": {},
   "source": [
    "### 4. Form a CSV with the crawled information, to be submitted named as crawl.csv."
   ]
  },
  {
   "cell_type": "code",
   "execution_count": 16,
   "id": "a08ed8a7",
   "metadata": {},
   "outputs": [],
   "source": [
    "df.to_csv(\"crawl.csv\",index=False)"
   ]
  },
  {
   "cell_type": "code",
   "execution_count": null,
   "id": "e337c00d",
   "metadata": {},
   "outputs": [],
   "source": []
  }
 ],
 "metadata": {
  "kernelspec": {
   "display_name": "Python 3 (ipykernel)",
   "language": "python",
   "name": "python3"
  },
  "language_info": {
   "codemirror_mode": {
    "name": "ipython",
    "version": 3
   },
   "file_extension": ".py",
   "mimetype": "text/x-python",
   "name": "python",
   "nbconvert_exporter": "python",
   "pygments_lexer": "ipython3",
   "version": "3.11.4"
  }
 },
 "nbformat": 4,
 "nbformat_minor": 5
}
