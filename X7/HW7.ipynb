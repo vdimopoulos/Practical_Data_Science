{
 "cells": [
  {
   "cell_type": "code",
   "execution_count": 1,
   "id": "9f73759a",
   "metadata": {},
   "outputs": [
    {
     "name": "stderr",
     "output_type": "stream",
     "text": [
      "[nltk_data] Downloading package punkt to\n",
      "[nltk_data]     C:\\Users\\vassi\\AppData\\Roaming\\nltk_data...\n",
      "[nltk_data]   Package punkt is already up-to-date!\n"
     ]
    }
   ],
   "source": [
    "import pandas as pd\n",
    "from tqdm.notebook import tqdm\n",
    "import gensim\n",
    "import nltk; nltk.download('punkt')\n",
    "from nltk.tokenize import sent_tokenize, word_tokenize\n",
    "import warnings\n",
    "warnings.filterwarnings(\"ignore\")"
   ]
  },
  {
   "cell_type": "code",
   "execution_count": 2,
   "id": "b7d884f4",
   "metadata": {},
   "outputs": [
    {
     "data": {
      "text/html": [
       "<div>\n",
       "<style scoped>\n",
       "    .dataframe tbody tr th:only-of-type {\n",
       "        vertical-align: middle;\n",
       "    }\n",
       "\n",
       "    .dataframe tbody tr th {\n",
       "        vertical-align: top;\n",
       "    }\n",
       "\n",
       "    .dataframe thead th {\n",
       "        text-align: right;\n",
       "    }\n",
       "</style>\n",
       "<table border=\"1\" class=\"dataframe\">\n",
       "  <thead>\n",
       "    <tr style=\"text-align: right;\">\n",
       "      <th></th>\n",
       "      <th>member_name</th>\n",
       "      <th>sitting_date</th>\n",
       "      <th>parliamentary_period</th>\n",
       "      <th>parliamentary_session</th>\n",
       "      <th>parliamentary_sitting</th>\n",
       "      <th>political_party</th>\n",
       "      <th>government</th>\n",
       "      <th>member_region</th>\n",
       "      <th>roles</th>\n",
       "      <th>member_gender</th>\n",
       "      <th>speaker_info</th>\n",
       "      <th>speech</th>\n",
       "    </tr>\n",
       "  </thead>\n",
       "  <tbody>\n",
       "    <tr>\n",
       "      <th>304440</th>\n",
       "      <td>μπασιακος αθανασιου ευαγγελος</td>\n",
       "      <td>02/11/1998</td>\n",
       "      <td>period 9</td>\n",
       "      <td>session 3</td>\n",
       "      <td>sitting 12</td>\n",
       "      <td>νεα δημοκρατια</td>\n",
       "      <td>['σημιτη κωνσταντινου(25/09/1996-13/04/2000)']</td>\n",
       "      <td>βοιωτιας</td>\n",
       "      <td>['βουλευτης']</td>\n",
       "      <td>male</td>\n",
       "      <td>NaN</td>\n",
       "      <td>κυριε προεδρε @sw πρωτοβουλια @sw σηµιτη @sw θ...</td>\n",
       "    </tr>\n",
       "  </tbody>\n",
       "</table>\n",
       "</div>"
      ],
      "text/plain": [
       "                          member_name sitting_date parliamentary_period  \\\n",
       "304440  μπασιακος αθανασιου ευαγγελος   02/11/1998             period 9   \n",
       "\n",
       "       parliamentary_session parliamentary_sitting political_party  \\\n",
       "304440             session 3            sitting 12  νεα δημοκρατια   \n",
       "\n",
       "                                            government member_region  \\\n",
       "304440  ['σημιτη κωνσταντινου(25/09/1996-13/04/2000)']      βοιωτιας   \n",
       "\n",
       "                roles member_gender speaker_info  \\\n",
       "304440  ['βουλευτης']          male          NaN   \n",
       "\n",
       "                                                   speech  \n",
       "304440  κυριε προεδρε @sw πρωτοβουλια @sw σηµιτη @sw θ...  "
      ]
     },
     "execution_count": 2,
     "metadata": {},
     "output_type": "execute_result"
    }
   ],
   "source": [
    "# read from tell_all_cleaned.csv file (couldn't download through jupyter)\n",
    "data = pd.read_csv(\"tell_all_cleaned.csv\")\n",
    "data.sample()"
   ]
  },
  {
   "cell_type": "code",
   "execution_count": 3,
   "id": "b60d8a3f",
   "metadata": {},
   "outputs": [
    {
     "data": {
      "text/plain": [
       "1280918"
      ]
     },
     "execution_count": 3,
     "metadata": {},
     "output_type": "execute_result"
    }
   ],
   "source": [
    "data.shape[0]"
   ]
  },
  {
   "cell_type": "code",
   "execution_count": 4,
   "id": "5ecd0f9f",
   "metadata": {},
   "outputs": [],
   "source": [
    "data.sitting_date = pd.to_datetime(data.sitting_date, dayfirst=True)"
   ]
  },
  {
   "cell_type": "code",
   "execution_count": 5,
   "id": "ad5ce789",
   "metadata": {},
   "outputs": [],
   "source": [
    "data.set_index(\"sitting_date\", inplace=True)\n",
    "data.sort_index(inplace=True)"
   ]
  },
  {
   "cell_type": "code",
   "execution_count": 6,
   "id": "69068304",
   "metadata": {},
   "outputs": [],
   "source": [
    "data.speech.fillna(\"\", inplace=True)\n",
    "data = data[data.speech.apply(len)>0]"
   ]
  },
  {
   "cell_type": "code",
   "execution_count": 7,
   "id": "7e819d80",
   "metadata": {},
   "outputs": [
    {
     "data": {
      "application/vnd.jupyter.widget-view+json": {
       "model_id": "6c0399b131994fdeb37ad121799d64c3",
       "version_major": 2,
       "version_minor": 0
      },
      "text/plain": [
       "  0%|          | 0/6 [00:00<?, ?it/s]"
      ]
     },
     "metadata": {},
     "output_type": "display_data"
    }
   ],
   "source": [
    "annual_models = {} \n",
    "# you can save other years as well \n",
    "for y in tqdm(range(2004, 2010)):\n",
    "    annual_models[y] = data[f\"{y}-1\":f\"{y}-12\"].reset_index()\n",
    "    annual_models[y].to_csv(f\"{y}.csv.gz\", compression=\"gzip\", index=False)"
   ]
  },
  {
   "cell_type": "code",
   "execution_count": 8,
   "id": "f332ee3f",
   "metadata": {},
   "outputs": [],
   "source": [
    "# training a model on data from 1980\n",
    "docs = annual_models[2004].speech.apply(word_tokenize).to_list()"
   ]
  },
  {
   "cell_type": "code",
   "execution_count": 9,
   "id": "943ce8e9",
   "metadata": {},
   "outputs": [],
   "source": [
    "model04 = gensim.models.FastText(docs, \n",
    "                                 vector_size=100, \n",
    "                                 window=5, \n",
    "                                 min_count=3)"
   ]
  },
  {
   "cell_type": "code",
   "execution_count": 10,
   "id": "58171540",
   "metadata": {},
   "outputs": [
    {
     "data": {
      "text/plain": [
       "[('πληθος', 0.8522717356681824),\n",
       " ('υποχρεος', 0.8319838047027588),\n",
       " ('πορος', 0.8297770023345947),\n",
       " ('δανεισμος', 0.8240165114402771),\n",
       " ('τοιχος', 0.8202792406082153),\n",
       " ('αμειλικτος', 0.8130025267601013),\n",
       " ('οφελος', 0.8096746206283569),\n",
       " ('αειφορος', 0.8007105588912964),\n",
       " ('φτωχος', 0.8001133799552917),\n",
       " ('μετοχος', 0.7976776361465454)]"
      ]
     },
     "execution_count": 10,
     "metadata": {},
     "output_type": "execute_result"
    }
   ],
   "source": [
    "model04.wv.most_similar(\"χρεος\")"
   ]
  },
  {
   "cell_type": "code",
   "execution_count": 11,
   "id": "49948202",
   "metadata": {},
   "outputs": [],
   "source": [
    "docs = annual_models[2009].speech.apply(word_tokenize).to_list()\n",
    "model09 = gensim.models.FastText(docs, \n",
    "                                 vector_size=100, \n",
    "                                 window=5, \n",
    "                                 min_count=3)"
   ]
  },
  {
   "cell_type": "code",
   "execution_count": 12,
   "id": "b9f02bbd",
   "metadata": {},
   "outputs": [
    {
     "data": {
      "text/plain": [
       "[('φανερος', 0.7441351413726807),\n",
       " ('δανεισμος', 0.7400953769683838),\n",
       " ('κοστος', 0.7396907210350037),\n",
       " ('ελλειμματικος', 0.7324572801589966),\n",
       " ('χριστος', 0.7261181473731995),\n",
       " ('υπερδανεισμος', 0.7243877053260803),\n",
       " ('υψηλος', 0.7226791381835938),\n",
       " ('χρεοκοπησε', 0.697590172290802),\n",
       " ('υψος', 0.6926799416542053),\n",
       " ('αδιαψευστος', 0.6887297034263611)]"
      ]
     },
     "execution_count": 12,
     "metadata": {},
     "output_type": "execute_result"
    }
   ],
   "source": [
    "model09.wv.most_similar(\"χρεος\")"
   ]
  },
  {
   "cell_type": "markdown",
   "id": "7412f27f",
   "metadata": {},
   "source": [
    "# Report"
   ]
  },
  {
   "cell_type": "markdown",
   "id": "0221241f",
   "metadata": {},
   "source": [
    "We tried to compare the speeches on the parliament of 2 close but very different years for the politics of Greece. 2004 was one of the most successful years for Greece as we hosted the Olympics, won the football euros and had many other successes in varying areas. Many pressume that the money we were lented on those years took an important toll on the economy which finally led to the economic crisis. This crisis started to become visible in 2008-09 were it was clear that the Greek economy couldn't handle the dept that had mounted up. On our analogy we tried to compare the word \"χρεος\" meaning dept between these 2 years. We trained our data with the 2004 and 2009 parliament speeches creating 2 different vocabularies. On the first vocabulary, for 2004, we can see that \"χρεος\" is considered similar to 'δανεισμος', 'πληθος', 'υποχρεος', 'αμειλικτος' etc. On the other hand, for the 2009 vocabulary it is similar with 'δανεισμος', 'υπερδανεισμος', 'κοστος', 'υψηλος', 'φανερος', 'ελλειμματικος'. The results clearly indicate that in 2004 there wasn't any real concern in the parliament about the debt while in 2009 there are clear indications that the dept is aknowledged as \"overgrown\", \"high\", \"vissible\" and there are talks about deficits and defaulting. In conclusion, what we understand from this analogy is that the greek governments hadn't forseen and forecasted the catastrophic events the large dept created in the decade of 2000 would create for the next decade, something they realized in 2008-09 and later.  "
   ]
  }
 ],
 "metadata": {
  "kernelspec": {
   "display_name": "Python 3 (ipykernel)",
   "language": "python",
   "name": "python3"
  },
  "language_info": {
   "codemirror_mode": {
    "name": "ipython",
    "version": 3
   },
   "file_extension": ".py",
   "mimetype": "text/x-python",
   "name": "python",
   "nbconvert_exporter": "python",
   "pygments_lexer": "ipython3",
   "version": "3.11.4"
  }
 },
 "nbformat": 4,
 "nbformat_minor": 5
}
