{
 "cells": [
  {
   "cell_type": "code",
   "execution_count": 1,
   "id": "de48ac0a",
   "metadata": {},
   "outputs": [],
   "source": [
    "import os\n",
    "import pandas as pd\n",
    "import numpy as np\n",
    "import matplotlib.pyplot as plt\n",
    "import warnings\n",
    "warnings.filterwarnings('ignore')\n",
    "root_path = 'hw2_submissions/'\n",
    "annotations_pd = pd.DataFrame()\n",
    "for f in os.listdir(root_path):\n",
    "    if f.startswith('.'):\n",
    "        continue\n",
    "    annot = pd.read_excel(f'{root_path}/{f}/1.xlsx',nrows=100)\n",
    "    annotations_pd['text'] = annot.text\n",
    "    annotations_pd[f] = annot.cluster\n"
   ]
  },
  {
   "cell_type": "code",
   "execution_count": 2,
   "id": "b65d8dfd",
   "metadata": {},
   "outputs": [
    {
     "data": {
      "text/html": [
       "<div>\n",
       "<style scoped>\n",
       "    .dataframe tbody tr th:only-of-type {\n",
       "        vertical-align: middle;\n",
       "    }\n",
       "\n",
       "    .dataframe tbody tr th {\n",
       "        vertical-align: top;\n",
       "    }\n",
       "\n",
       "    .dataframe thead th {\n",
       "        text-align: right;\n",
       "    }\n",
       "</style>\n",
       "<table border=\"1\" class=\"dataframe\">\n",
       "  <thead>\n",
       "    <tr style=\"text-align: right;\">\n",
       "      <th></th>\n",
       "      <th>f3352301</th>\n",
       "      <th>f3352307</th>\n",
       "      <th>f3352308</th>\n",
       "      <th>f3352310</th>\n",
       "      <th>f3352311</th>\n",
       "      <th>f3352314</th>\n",
       "      <th>f3352315</th>\n",
       "      <th>f3352316</th>\n",
       "      <th>f3352318</th>\n",
       "      <th>f3352321</th>\n",
       "    </tr>\n",
       "    <tr>\n",
       "      <th>text</th>\n",
       "      <th></th>\n",
       "      <th></th>\n",
       "      <th></th>\n",
       "      <th></th>\n",
       "      <th></th>\n",
       "      <th></th>\n",
       "      <th></th>\n",
       "      <th></th>\n",
       "      <th></th>\n",
       "      <th></th>\n",
       "    </tr>\n",
       "  </thead>\n",
       "  <tbody>\n",
       "    <tr>\n",
       "      <th>Όποιος δεν τον ξέρ΄ ακριβά τον αγοράζει</th>\n",
       "      <td>1</td>\n",
       "      <td>1</td>\n",
       "      <td>1</td>\n",
       "      <td>1.0</td>\n",
       "      <td>2</td>\n",
       "      <td>1</td>\n",
       "      <td>6</td>\n",
       "      <td>2</td>\n",
       "      <td>6</td>\n",
       "      <td>1</td>\n",
       "    </tr>\n",
       "    <tr>\n",
       "      <th>Τα 'θελες και τα 'παθες</th>\n",
       "      <td>3</td>\n",
       "      <td>2</td>\n",
       "      <td>1</td>\n",
       "      <td>5.0</td>\n",
       "      <td>17</td>\n",
       "      <td>2</td>\n",
       "      <td>5</td>\n",
       "      <td>9</td>\n",
       "      <td>5</td>\n",
       "      <td>1</td>\n",
       "    </tr>\n",
       "    <tr>\n",
       "      <th>Αδειανός μασκαράς, παραχέρ 'τ' χουριού</th>\n",
       "      <td>3</td>\n",
       "      <td>3</td>\n",
       "      <td>1</td>\n",
       "      <td>1.0</td>\n",
       "      <td>16</td>\n",
       "      <td>3</td>\n",
       "      <td>10</td>\n",
       "      <td>1</td>\n",
       "      <td>6</td>\n",
       "      <td>3</td>\n",
       "    </tr>\n",
       "    <tr>\n",
       "      <th>Ξεπεσομένος άρχοντας, ζωντανοκολασμένος, λιοντάρι ψόφιο, χαρτί μουρδουλωμένο</th>\n",
       "      <td>4</td>\n",
       "      <td>4</td>\n",
       "      <td>4</td>\n",
       "      <td>1.0</td>\n",
       "      <td>1</td>\n",
       "      <td>3</td>\n",
       "      <td>2</td>\n",
       "      <td>1</td>\n",
       "      <td>6</td>\n",
       "      <td>3</td>\n",
       "    </tr>\n",
       "    <tr>\n",
       "      <th>Κάλλιο γαιδουρόδερνε, παρά γαιδουρογύρευε</th>\n",
       "      <td>1</td>\n",
       "      <td>5</td>\n",
       "      <td>2</td>\n",
       "      <td>2.0</td>\n",
       "      <td>1</td>\n",
       "      <td>2</td>\n",
       "      <td>8</td>\n",
       "      <td>3</td>\n",
       "      <td>6</td>\n",
       "      <td>2</td>\n",
       "    </tr>\n",
       "    <tr>\n",
       "      <th>...</th>\n",
       "      <td>...</td>\n",
       "      <td>...</td>\n",
       "      <td>...</td>\n",
       "      <td>...</td>\n",
       "      <td>...</td>\n",
       "      <td>...</td>\n",
       "      <td>...</td>\n",
       "      <td>...</td>\n",
       "      <td>...</td>\n",
       "      <td>...</td>\n",
       "    </tr>\n",
       "    <tr>\n",
       "      <th>Σαράντα καλόγεροι, ο καθένας με τον πόνο τ'</th>\n",
       "      <td>6</td>\n",
       "      <td>17</td>\n",
       "      <td>1</td>\n",
       "      <td>1.0</td>\n",
       "      <td>7</td>\n",
       "      <td>6</td>\n",
       "      <td>10</td>\n",
       "      <td>2</td>\n",
       "      <td>5</td>\n",
       "      <td>4</td>\n",
       "    </tr>\n",
       "    <tr>\n",
       "      <th>Θέλει κι ο Μούτσιος καφέ!</th>\n",
       "      <td>5</td>\n",
       "      <td>4</td>\n",
       "      <td>1</td>\n",
       "      <td>5.0</td>\n",
       "      <td>8</td>\n",
       "      <td>8</td>\n",
       "      <td>1</td>\n",
       "      <td>50</td>\n",
       "      <td>6</td>\n",
       "      <td>1</td>\n",
       "    </tr>\n",
       "    <tr>\n",
       "      <th>Ξέρεις και συ που πάει του χωριού η αγγέλη</th>\n",
       "      <td>4</td>\n",
       "      <td>3</td>\n",
       "      <td>4</td>\n",
       "      <td>5.0</td>\n",
       "      <td>17</td>\n",
       "      <td>4</td>\n",
       "      <td>7</td>\n",
       "      <td>2</td>\n",
       "      <td>6</td>\n",
       "      <td>1</td>\n",
       "    </tr>\n",
       "    <tr>\n",
       "      <th>Επήα να κόψω τ' αυτιά και 'βαλα και κέρατα</th>\n",
       "      <td>1</td>\n",
       "      <td>38</td>\n",
       "      <td>5</td>\n",
       "      <td>5.0</td>\n",
       "      <td>12</td>\n",
       "      <td>3</td>\n",
       "      <td>10</td>\n",
       "      <td>18</td>\n",
       "      <td>6</td>\n",
       "      <td>1</td>\n",
       "    </tr>\n",
       "    <tr>\n",
       "      <th>Απού βράσει τζαί στεγνώσει εν έν τίποτε</th>\n",
       "      <td>1</td>\n",
       "      <td>42</td>\n",
       "      <td>4</td>\n",
       "      <td>1.0</td>\n",
       "      <td>17</td>\n",
       "      <td>4</td>\n",
       "      <td>7</td>\n",
       "      <td>18</td>\n",
       "      <td>6</td>\n",
       "      <td>1</td>\n",
       "    </tr>\n",
       "  </tbody>\n",
       "</table>\n",
       "<p>100 rows × 10 columns</p>\n",
       "</div>"
      ],
      "text/plain": [
       "                                                    f3352301  f3352307  \\\n",
       "text                                                                     \n",
       "Όποιος δεν τον ξέρ΄ ακριβά τον αγοράζει                    1         1   \n",
       "Τα 'θελες και τα 'παθες                                    3         2   \n",
       "Αδειανός μασκαράς, παραχέρ 'τ' χουριού                     3         3   \n",
       "Ξεπεσομένος άρχοντας, ζωντανοκολασμένος, λιοντά...         4         4   \n",
       "Κάλλιο γαιδουρόδερνε, παρά γαιδουρογύρευε                  1         5   \n",
       "...                                                      ...       ...   \n",
       "Σαράντα καλόγεροι, ο καθένας με τον πόνο τ'                6        17   \n",
       "Θέλει κι ο Μούτσιος καφέ!                                  5         4   \n",
       "Ξέρεις και συ που πάει του χωριού η αγγέλη                 4         3   \n",
       "Επήα να κόψω τ' αυτιά και 'βαλα και κέρατα                 1        38   \n",
       "Απού βράσει τζαί στεγνώσει εν έν τίποτε                    1        42   \n",
       "\n",
       "                                                    f3352308  f3352310  \\\n",
       "text                                                                     \n",
       "Όποιος δεν τον ξέρ΄ ακριβά τον αγοράζει                    1       1.0   \n",
       "Τα 'θελες και τα 'παθες                                    1       5.0   \n",
       "Αδειανός μασκαράς, παραχέρ 'τ' χουριού                     1       1.0   \n",
       "Ξεπεσομένος άρχοντας, ζωντανοκολασμένος, λιοντά...         4       1.0   \n",
       "Κάλλιο γαιδουρόδερνε, παρά γαιδουρογύρευε                  2       2.0   \n",
       "...                                                      ...       ...   \n",
       "Σαράντα καλόγεροι, ο καθένας με τον πόνο τ'                1       1.0   \n",
       "Θέλει κι ο Μούτσιος καφέ!                                  1       5.0   \n",
       "Ξέρεις και συ που πάει του χωριού η αγγέλη                 4       5.0   \n",
       "Επήα να κόψω τ' αυτιά και 'βαλα και κέρατα                 5       5.0   \n",
       "Απού βράσει τζαί στεγνώσει εν έν τίποτε                    4       1.0   \n",
       "\n",
       "                                                    f3352311  f3352314  \\\n",
       "text                                                                     \n",
       "Όποιος δεν τον ξέρ΄ ακριβά τον αγοράζει                    2         1   \n",
       "Τα 'θελες και τα 'παθες                                   17         2   \n",
       "Αδειανός μασκαράς, παραχέρ 'τ' χουριού                    16         3   \n",
       "Ξεπεσομένος άρχοντας, ζωντανοκολασμένος, λιοντά...         1         3   \n",
       "Κάλλιο γαιδουρόδερνε, παρά γαιδουρογύρευε                  1         2   \n",
       "...                                                      ...       ...   \n",
       "Σαράντα καλόγεροι, ο καθένας με τον πόνο τ'                7         6   \n",
       "Θέλει κι ο Μούτσιος καφέ!                                  8         8   \n",
       "Ξέρεις και συ που πάει του χωριού η αγγέλη                17         4   \n",
       "Επήα να κόψω τ' αυτιά και 'βαλα και κέρατα                12         3   \n",
       "Απού βράσει τζαί στεγνώσει εν έν τίποτε                   17         4   \n",
       "\n",
       "                                                    f3352315  f3352316  \\\n",
       "text                                                                     \n",
       "Όποιος δεν τον ξέρ΄ ακριβά τον αγοράζει                    6         2   \n",
       "Τα 'θελες και τα 'παθες                                    5         9   \n",
       "Αδειανός μασκαράς, παραχέρ 'τ' χουριού                    10         1   \n",
       "Ξεπεσομένος άρχοντας, ζωντανοκολασμένος, λιοντά...         2         1   \n",
       "Κάλλιο γαιδουρόδερνε, παρά γαιδουρογύρευε                  8         3   \n",
       "...                                                      ...       ...   \n",
       "Σαράντα καλόγεροι, ο καθένας με τον πόνο τ'               10         2   \n",
       "Θέλει κι ο Μούτσιος καφέ!                                  1        50   \n",
       "Ξέρεις και συ που πάει του χωριού η αγγέλη                 7         2   \n",
       "Επήα να κόψω τ' αυτιά και 'βαλα και κέρατα                10        18   \n",
       "Απού βράσει τζαί στεγνώσει εν έν τίποτε                    7        18   \n",
       "\n",
       "                                                   f3352318  f3352321  \n",
       "text                                                                   \n",
       "Όποιος δεν τον ξέρ΄ ακριβά τον αγοράζει                   6         1  \n",
       "Τα 'θελες και τα 'παθες                                   5         1  \n",
       "Αδειανός μασκαράς, παραχέρ 'τ' χουριού                    6         3  \n",
       "Ξεπεσομένος άρχοντας, ζωντανοκολασμένος, λιοντά...        6         3  \n",
       "Κάλλιο γαιδουρόδερνε, παρά γαιδουρογύρευε                 6         2  \n",
       "...                                                     ...       ...  \n",
       "Σαράντα καλόγεροι, ο καθένας με τον πόνο τ'               5         4  \n",
       "Θέλει κι ο Μούτσιος καφέ!                                 6         1  \n",
       "Ξέρεις και συ που πάει του χωριού η αγγέλη                6         1  \n",
       "Επήα να κόψω τ' αυτιά και 'βαλα και κέρατα                6         1  \n",
       "Απού βράσει τζαί στεγνώσει εν έν τίποτε                   6         1  \n",
       "\n",
       "[100 rows x 10 columns]"
      ]
     },
     "execution_count": 2,
     "metadata": {},
     "output_type": "execute_result"
    }
   ],
   "source": [
    "annotations_pd.set_index('text',inplace = True)\n",
    "annotations_pd"
   ]
  },
  {
   "cell_type": "code",
   "execution_count": 3,
   "id": "17b610ed",
   "metadata": {},
   "outputs": [
    {
     "name": "stdout",
     "output_type": "stream",
     "text": [
      "<class 'pandas.core.frame.DataFrame'>\n",
      "Index: 100 entries, Όποιος δεν τον ξέρ΄ ακριβά τον αγοράζει to Απού βράσει τζαί στεγνώσει εν έν τίποτε\n",
      "Data columns (total 10 columns):\n",
      " #   Column    Non-Null Count  Dtype  \n",
      "---  ------    --------------  -----  \n",
      " 0   f3352301  100 non-null    int64  \n",
      " 1   f3352307  100 non-null    int64  \n",
      " 2   f3352308  100 non-null    int64  \n",
      " 3   f3352310  98 non-null     float64\n",
      " 4   f3352311  100 non-null    int64  \n",
      " 5   f3352314  100 non-null    int64  \n",
      " 6   f3352315  100 non-null    int64  \n",
      " 7   f3352316  100 non-null    int64  \n",
      " 8   f3352318  100 non-null    object \n",
      " 9   f3352321  100 non-null    int64  \n",
      "dtypes: float64(1), int64(8), object(1)\n",
      "memory usage: 8.6+ KB\n"
     ]
    }
   ],
   "source": [
    "annotations_pd.info()"
   ]
  },
  {
   "cell_type": "code",
   "execution_count": 4,
   "id": "0492dab4",
   "metadata": {},
   "outputs": [
    {
     "data": {
      "text/plain": [
       "text\n",
       "Όποιος δεν τον ξέρ΄ ακριβά τον αγοράζει                                         1.0\n",
       "Τα 'θελες και τα 'παθες                                                         5.0\n",
       "Αδειανός μασκαράς, παραχέρ 'τ' χουριού                                          1.0\n",
       "Ξεπεσομένος άρχοντας, ζωντανοκολασμένος, λιοντάρι ψόφιο, χαρτί μουρδουλωμένο    1.0\n",
       "Κάλλιο γαιδουρόδερνε, παρά γαιδουρογύρευε                                       2.0\n",
       "                                                                               ... \n",
       "Σαράντα καλόγεροι, ο καθένας με τον πόνο τ'                                     1.0\n",
       "Θέλει κι ο Μούτσιος καφέ!                                                       5.0\n",
       "Ξέρεις και συ που πάει του χωριού η αγγέλη                                      5.0\n",
       "Επήα να κόψω τ' αυτιά και 'βαλα και κέρατα                                      5.0\n",
       "Απού βράσει τζαί στεγνώσει εν έν τίποτε                                         1.0\n",
       "Name: f3352310, Length: 100, dtype: float64"
      ]
     },
     "execution_count": 4,
     "metadata": {},
     "output_type": "execute_result"
    }
   ],
   "source": [
    "annotations_pd['f3352310']"
   ]
  },
  {
   "cell_type": "code",
   "execution_count": 5,
   "id": "585343e5",
   "metadata": {},
   "outputs": [
    {
     "data": {
      "text/html": [
       "<div>\n",
       "<style scoped>\n",
       "    .dataframe tbody tr th:only-of-type {\n",
       "        vertical-align: middle;\n",
       "    }\n",
       "\n",
       "    .dataframe tbody tr th {\n",
       "        vertical-align: top;\n",
       "    }\n",
       "\n",
       "    .dataframe thead th {\n",
       "        text-align: right;\n",
       "    }\n",
       "</style>\n",
       "<table border=\"1\" class=\"dataframe\">\n",
       "  <thead>\n",
       "    <tr style=\"text-align: right;\">\n",
       "      <th></th>\n",
       "      <th>f3352301</th>\n",
       "      <th>f3352307</th>\n",
       "      <th>f3352308</th>\n",
       "      <th>f3352310</th>\n",
       "      <th>f3352311</th>\n",
       "      <th>f3352314</th>\n",
       "      <th>f3352315</th>\n",
       "      <th>f3352316</th>\n",
       "      <th>f3352318</th>\n",
       "      <th>f3352321</th>\n",
       "    </tr>\n",
       "    <tr>\n",
       "      <th>text</th>\n",
       "      <th></th>\n",
       "      <th></th>\n",
       "      <th></th>\n",
       "      <th></th>\n",
       "      <th></th>\n",
       "      <th></th>\n",
       "      <th></th>\n",
       "      <th></th>\n",
       "      <th></th>\n",
       "      <th></th>\n",
       "    </tr>\n",
       "  </thead>\n",
       "  <tbody>\n",
       "    <tr>\n",
       "      <th>Είχα το παιδί κι είχα τη χαρά κι έψηνα του πέντ' αυγά κι έτρωγα τα τέσσερα και το μισό κι απου το μισό τ' άλλο μισό πόσο 'τρωε το παιδίν;</th>\n",
       "      <td>5</td>\n",
       "      <td>13</td>\n",
       "      <td>8</td>\n",
       "      <td>NaN</td>\n",
       "      <td>8</td>\n",
       "      <td>4</td>\n",
       "      <td>7</td>\n",
       "      <td>15</td>\n",
       "      <td>6</td>\n",
       "      <td>1</td>\n",
       "    </tr>\n",
       "    <tr>\n",
       "      <th>Εσηκώθηκ' η Νοθιά με τα παιδογγονά τζη</th>\n",
       "      <td>7</td>\n",
       "      <td>50</td>\n",
       "      <td>6</td>\n",
       "      <td>NaN</td>\n",
       "      <td>6</td>\n",
       "      <td>4</td>\n",
       "      <td>7</td>\n",
       "      <td>14</td>\n",
       "      <td>6</td>\n",
       "      <td>1</td>\n",
       "    </tr>\n",
       "  </tbody>\n",
       "</table>\n",
       "</div>"
      ],
      "text/plain": [
       "                                                    f3352301  f3352307  \\\n",
       "text                                                                     \n",
       "Είχα το παιδί κι είχα τη χαρά κι έψηνα του πέντ...         5        13   \n",
       "Εσηκώθηκ' η Νοθιά με τα παιδογγονά τζη                     7        50   \n",
       "\n",
       "                                                    f3352308  f3352310  \\\n",
       "text                                                                     \n",
       "Είχα το παιδί κι είχα τη χαρά κι έψηνα του πέντ...         8       NaN   \n",
       "Εσηκώθηκ' η Νοθιά με τα παιδογγονά τζη                     6       NaN   \n",
       "\n",
       "                                                    f3352311  f3352314  \\\n",
       "text                                                                     \n",
       "Είχα το παιδί κι είχα τη χαρά κι έψηνα του πέντ...         8         4   \n",
       "Εσηκώθηκ' η Νοθιά με τα παιδογγονά τζη                     6         4   \n",
       "\n",
       "                                                    f3352315  f3352316  \\\n",
       "text                                                                     \n",
       "Είχα το παιδί κι είχα τη χαρά κι έψηνα του πέντ...         7        15   \n",
       "Εσηκώθηκ' η Νοθιά με τα παιδογγονά τζη                     7        14   \n",
       "\n",
       "                                                   f3352318  f3352321  \n",
       "text                                                                   \n",
       "Είχα το παιδί κι είχα τη χαρά κι έψηνα του πέντ...        6         1  \n",
       "Εσηκώθηκ' η Νοθιά με τα παιδογγονά τζη                    6         1  "
      ]
     },
     "execution_count": 5,
     "metadata": {},
     "output_type": "execute_result"
    }
   ],
   "source": [
    "annotations_pd[annotations_pd['f3352310'].isna()]"
   ]
  },
  {
   "cell_type": "code",
   "execution_count": 6,
   "id": "1eb36e52",
   "metadata": {},
   "outputs": [
    {
     "data": {
      "text/html": [
       "<div>\n",
       "<style scoped>\n",
       "    .dataframe tbody tr th:only-of-type {\n",
       "        vertical-align: middle;\n",
       "    }\n",
       "\n",
       "    .dataframe tbody tr th {\n",
       "        vertical-align: top;\n",
       "    }\n",
       "\n",
       "    .dataframe thead th {\n",
       "        text-align: right;\n",
       "    }\n",
       "</style>\n",
       "<table border=\"1\" class=\"dataframe\">\n",
       "  <thead>\n",
       "    <tr style=\"text-align: right;\">\n",
       "      <th></th>\n",
       "      <th>f3352301</th>\n",
       "      <th>f3352307</th>\n",
       "      <th>f3352308</th>\n",
       "      <th>f3352310</th>\n",
       "      <th>f3352311</th>\n",
       "      <th>f3352314</th>\n",
       "      <th>f3352315</th>\n",
       "      <th>f3352316</th>\n",
       "      <th>f3352318</th>\n",
       "      <th>f3352321</th>\n",
       "    </tr>\n",
       "    <tr>\n",
       "      <th>text</th>\n",
       "      <th></th>\n",
       "      <th></th>\n",
       "      <th></th>\n",
       "      <th></th>\n",
       "      <th></th>\n",
       "      <th></th>\n",
       "      <th></th>\n",
       "      <th></th>\n",
       "      <th></th>\n",
       "      <th></th>\n",
       "    </tr>\n",
       "  </thead>\n",
       "  <tbody>\n",
       "  </tbody>\n",
       "</table>\n",
       "</div>"
      ],
      "text/plain": [
       "Empty DataFrame\n",
       "Columns: [f3352301, f3352307, f3352308, f3352310, f3352311, f3352314, f3352315, f3352316, f3352318, f3352321]\n",
       "Index: []"
      ]
     },
     "execution_count": 6,
     "metadata": {},
     "output_type": "execute_result"
    }
   ],
   "source": [
    "annotations_pd['f3352310'].fillna(0,inplace = True)\n",
    "annotations_pd[annotations_pd['f3352310'].isna()]"
   ]
  },
  {
   "cell_type": "code",
   "execution_count": 7,
   "id": "cfc1a3ec",
   "metadata": {},
   "outputs": [
    {
     "name": "stdout",
     "output_type": "stream",
     "text": [
      "<class 'pandas.core.frame.DataFrame'>\n",
      "Index: 100 entries, Όποιος δεν τον ξέρ΄ ακριβά τον αγοράζει to Απού βράσει τζαί στεγνώσει εν έν τίποτε\n",
      "Data columns (total 10 columns):\n",
      " #   Column    Non-Null Count  Dtype \n",
      "---  ------    --------------  ----- \n",
      " 0   f3352301  100 non-null    int64 \n",
      " 1   f3352307  100 non-null    int64 \n",
      " 2   f3352308  100 non-null    int64 \n",
      " 3   f3352310  100 non-null    int64 \n",
      " 4   f3352311  100 non-null    int64 \n",
      " 5   f3352314  100 non-null    int64 \n",
      " 6   f3352315  100 non-null    int64 \n",
      " 7   f3352316  100 non-null    int64 \n",
      " 8   f3352318  100 non-null    object\n",
      " 9   f3352321  100 non-null    int64 \n",
      "dtypes: int64(9), object(1)\n",
      "memory usage: 12.7+ KB\n"
     ]
    }
   ],
   "source": [
    "annotations_pd['f3352310'] = annotations_pd['f3352310'].astype(np.int64)\n",
    "annotations_pd.info()"
   ]
  },
  {
   "cell_type": "code",
   "execution_count": 8,
   "id": "008f5fbf",
   "metadata": {},
   "outputs": [
    {
     "data": {
      "text/plain": [
       "array([6, 5, 1, 4, '2, 3 ', 3, 2, '3, 4'], dtype=object)"
      ]
     },
     "execution_count": 8,
     "metadata": {},
     "output_type": "execute_result"
    }
   ],
   "source": [
    "annotations_pd['f3352318'].unique()"
   ]
  },
  {
   "cell_type": "code",
   "execution_count": 9,
   "id": "5c49f595",
   "metadata": {},
   "outputs": [],
   "source": [
    "annotations_pd['f3352318'][annotations_pd['f3352318'] == '2, 3 '] = '2'\n",
    "annotations_pd['f3352318'][annotations_pd['f3352318'] == '3, 4'] = '3'"
   ]
  },
  {
   "cell_type": "code",
   "execution_count": 10,
   "id": "ad69d6c6",
   "metadata": {},
   "outputs": [
    {
     "name": "stdout",
     "output_type": "stream",
     "text": [
      "<class 'pandas.core.frame.DataFrame'>\n",
      "Index: 100 entries, Όποιος δεν τον ξέρ΄ ακριβά τον αγοράζει to Απού βράσει τζαί στεγνώσει εν έν τίποτε\n",
      "Data columns (total 10 columns):\n",
      " #   Column    Non-Null Count  Dtype\n",
      "---  ------    --------------  -----\n",
      " 0   f3352301  100 non-null    int64\n",
      " 1   f3352307  100 non-null    int64\n",
      " 2   f3352308  100 non-null    int64\n",
      " 3   f3352310  100 non-null    int64\n",
      " 4   f3352311  100 non-null    int64\n",
      " 5   f3352314  100 non-null    int64\n",
      " 6   f3352315  100 non-null    int64\n",
      " 7   f3352316  100 non-null    int64\n",
      " 8   f3352318  100 non-null    int64\n",
      " 9   f3352321  100 non-null    int64\n",
      "dtypes: int64(10)\n",
      "memory usage: 12.7+ KB\n"
     ]
    }
   ],
   "source": [
    "annotations_pd['f3352318'] = annotations_pd['f3352318'].astype(np.int64)\n",
    "annotations_pd.info()"
   ]
  },
  {
   "cell_type": "code",
   "execution_count": 11,
   "id": "75ef90bf",
   "metadata": {},
   "outputs": [
    {
     "name": "stdout",
     "output_type": "stream",
     "text": [
      "[1 3 4 5 6 7 8 2 9]\n",
      "[ 1  2  3  4  5  6  7  8  9 50 10 11 12 13 14 15 16 17 18 19 20 28 21 22\n",
      " 24 26 27 30 40 31 32 33 34 39 35 47 36 37 48 38 41 45 46 44 43 42]\n",
      "[1 4 2 6 3 7 5 8]\n",
      "[1 5 2 4 3 0]\n",
      "[ 2 17 16  1  9 13  5  3 11  4  8  6 10  7 14 15 12]\n",
      "[1 2 3 4 9 8 6 5 7]\n",
      "[ 6  5 10  2  8  7  4  1  3  9]\n",
      "[ 2  9  1  3 50 11  5  6 17  7 10 13  8 12 15 16 14 18]\n",
      "[6 5 1 4 2 3]\n",
      "[1 3 2 4 5 6]\n"
     ]
    }
   ],
   "source": [
    "for column in annotations_pd.columns:\n",
    "    print(annotations_pd[column].unique())"
   ]
  },
  {
   "cell_type": "code",
   "execution_count": 12,
   "id": "934acfb8",
   "metadata": {},
   "outputs": [],
   "source": [
    "columns_count = annotations_pd.shape[1]\n",
    "rows_count = annotations_pd.shape[0]"
   ]
  },
  {
   "cell_type": "code",
   "execution_count": 13,
   "id": "a0916abe",
   "metadata": {},
   "outputs": [
    {
     "data": {
      "text/plain": [
       "array([[0.  , 0.03, 0.13, 0.13, 0.03, 0.18, 0.04, 0.11, 0.13, 0.24],\n",
       "       [0.  , 0.  , 0.05, 0.04, 0.04, 0.04, 0.01, 0.08, 0.06, 0.04],\n",
       "       [0.  , 0.  , 0.  , 0.27, 0.06, 0.16, 0.09, 0.04, 0.16, 0.29],\n",
       "       [0.  , 0.  , 0.  , 0.  , 0.09, 0.14, 0.06, 0.03, 0.09, 0.49],\n",
       "       [0.  , 0.  , 0.  , 0.  , 0.  , 0.06, 0.04, 0.06, 0.07, 0.09],\n",
       "       [0.  , 0.  , 0.  , 0.  , 0.  , 0.  , 0.08, 0.14, 0.13, 0.21],\n",
       "       [0.  , 0.  , 0.  , 0.  , 0.  , 0.  , 0.  , 0.03, 0.05, 0.08],\n",
       "       [0.  , 0.  , 0.  , 0.  , 0.  , 0.  , 0.  , 0.  , 0.11, 0.02],\n",
       "       [0.  , 0.  , 0.  , 0.  , 0.  , 0.  , 0.  , 0.  , 0.  , 0.06],\n",
       "       [0.  , 0.  , 0.  , 0.  , 0.  , 0.  , 0.  , 0.  , 0.  , 0.  ]])"
      ]
     },
     "execution_count": 13,
     "metadata": {},
     "output_type": "execute_result"
    }
   ],
   "source": [
    "match_matrix = np.zeros((10, 10))\n",
    "for i in range(columns_count):\n",
    "    for j in range(i+1,columns_count):\n",
    "        match_perc = ((annotations_pd.iloc[:, i] == annotations_pd.iloc[:, j]).sum()) / rows_count\n",
    "        match_matrix[i][j] = match_perc\n",
    "match_matrix"
   ]
  },
  {
   "cell_type": "code",
   "execution_count": 14,
   "id": "92fd5957",
   "metadata": {},
   "outputs": [
    {
     "data": {
      "image/png": "[encoded data removed]",
      "text/plain": [
       "<Figure size 640x480 with 2 Axes>"
      ]
     },
     "metadata": {},
     "output_type": "display_data"
    }
   ],
   "source": [
    "plt.imshow(match_matrix, cmap='Reds')\n",
    "x_ticks = np.arange(0, 10, 1)\n",
    "y_ticks = np.arange(0, 10, 1)\n",
    "\n",
    "x_tick_labels = annotations_pd.columns.to_list()\n",
    "y_tick_labels = annotations_pd.columns.to_list()\n",
    "\n",
    "plt.xticks(x_ticks, x_tick_labels, rotation=45)\n",
    "plt.yticks(y_ticks, y_tick_labels)\n",
    "for i in range(10):\n",
    "    for j in range(10):\n",
    "        percentage = match_matrix[i, j] * 100\n",
    "        plt.text(j, i, f'{percentage:.0f}%', ha='center', va='center', color='w')\n",
    "plt.colorbar()\n",
    "plt.show()"
   ]
  },
  {
   "cell_type": "markdown",
   "id": "9e310948",
   "metadata": {},
   "source": [
    "We can see that the pair with the highest agreement is f3352310 and f3352321, with 49% of their clusters being in agreement. If we look inside the files we can understand why. For both annotations, the first 2 clusters (1 and 2) are given to the same cayegories, 'Διαπίστωση' and 'Συμβουλή'. Also the 4th cluster is 'Θρησκεία' (religion) in the first annotation and 'Παράδοση' (tradition) in the second. In Greece, tradition is highly connected with religion and it is propable that the proverbs for both these categories are similar."
   ]
  },
  {
   "cell_type": "code",
   "execution_count": 15,
   "id": "127a3fc4",
   "metadata": {},
   "outputs": [
    {
     "data": {
      "text/plain": [
       "1    38\n",
       "5    28\n",
       "2    16\n",
       "4     8\n",
       "3     8\n",
       "0     2\n",
       "Name: f3352310, dtype: int64"
      ]
     },
     "execution_count": 15,
     "metadata": {},
     "output_type": "execute_result"
    }
   ],
   "source": [
    "annotations_pd['f3352310'].value_counts()"
   ]
  },
  {
   "cell_type": "code",
   "execution_count": 16,
   "id": "a3d787d9",
   "metadata": {},
   "outputs": [
    {
     "data": {
      "text/plain": [
       "1    50\n",
       "2    20\n",
       "3    12\n",
       "4    11\n",
       "6     5\n",
       "5     2\n",
       "Name: f3352321, dtype: int64"
      ]
     },
     "execution_count": 16,
     "metadata": {},
     "output_type": "execute_result"
    }
   ],
   "source": [
    "annotations_pd['f3352321'].value_counts()"
   ]
  },
  {
   "cell_type": "markdown",
   "id": "098eb735",
   "metadata": {},
   "source": [
    "As we can see the first annotation has 38 + 16 + 8 = 62% of the proverbs on those 3 clusters and the second annotation 50 + 20 + 11 = 81%. So, most of the proverbs on both annotations are distributed similarly in their clusters."
   ]
  },
  {
   "cell_type": "markdown",
   "id": "70c4b939",
   "metadata": {},
   "source": [
    "The biggest differences can be spotted in clusters 3, 5. The 3rd cluster for the first annotation is 'Χαρακτηρισμός' meaning identity while for the second 'Επιθυμία' meaning need. Those 2 terms aren't very similar and the proverbs annoted to the 3rd cluster will be different. For cluster 5, we can see that 28% of the first annotation got clustered as 'Παρομοίωση' meaning simile, while only 2 annotations existed in the second case, with the label 'Ειρωνεία' meaning irony. Again, those two categories are not similar and with 5 getting 28% of the first annotation, it reduced the agreement ratio. Finally, the first annotation has a 6th cluster while the second doesn't, with the label 'Πεπρωμένο', having 5% of its proverbs where disagreement is automatically attributed."
   ]
  },
  {
   "cell_type": "code",
   "execution_count": null,
   "id": "bf7f96a2",
   "metadata": {},
   "outputs": [],
   "source": []
  }
 ],
 "metadata": {
  "kernelspec": {
   "display_name": "Python 3 (ipykernel)",
   "language": "python",
   "name": "python3"
  },
  "language_info": {
   "codemirror_mode": {
    "name": "ipython",
    "version": 3
   },
   "file_extension": ".py",
   "mimetype": "text/x-python",
   "name": "python",
   "nbconvert_exporter": "python",
   "pygments_lexer": "ipython3",
   "version": "3.11.4"
  }
 },
 "nbformat": 4,
 "nbformat_minor": 5
}
